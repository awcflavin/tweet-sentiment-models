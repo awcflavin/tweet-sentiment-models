{
 "cells": [
  {
   "cell_type": "code",
   "execution_count": 43,
   "metadata": {},
   "outputs": [],
   "source": [
    "from __future__ import print_function\n",
    "from models.transformers import Decoder\n",
    "from utils.tokenizers import *\n",
    "from pathlib import Path\n",
    "import torch\n",
    "\n",
    "device = \"cuda\" if torch.cuda.is_available() else \"cpu\"\n",
    "\n",
    "emotion_to_int = {\n",
    "    \"disappointed\": 0,\n",
    "    \"happy\": 1,\n",
    "    \"angry\": 2,\n",
    "    }\n",
    "\n",
    "with open(\"saves/Decoder/tokenizer_Decoder\", \"rb\") as f:\n",
    "    tokenizer = pickle.load(f)\n",
    "    \n",
    "vocab_size = tokenizer.get_vocab_size()\n",
    "model = Decoder(vocab_size)\n",
    "model.load_state_dict(torch.load(Path(\"saves/Decoder/best_Decoder\")))\n",
    "model.to(device)\n",
    "\n",
    "def gen_tweets():\n",
    "\n",
    "    print(\"\\ngenerating sample tweets...\")\n",
    "    for emotion, i in emotion_to_int.items():\n",
    "        print(\"\\n=== Generating 3 tweets with emotion:\", emotion, \"===\")\n",
    "        for i in range(3):\n",
    "            tweet = model.generate(i, num_tokens=20, begin_token=256, end_token=257)\n",
    "            print(\"Tweet: \" + tokenizer.decode(tweet))"
   ]
  },
  {
   "cell_type": "code",
   "execution_count": 57,
   "metadata": {},
   "outputs": [
    {
     "name": "stdout",
     "output_type": "stream",
     "text": [
      "\n",
      "generating sample tweets...\n",
      "\n",
      "=== Generating 3 tweets with emotion: disappointed ===\n",
      "Tweet: and this means my husband :takeout_box:smile and who would learn her program will be aware about deep tonight i feel ignored pai want to \n",
      "Tweet: cerds, i never see the naved after quarantine in the street 1ship with and your presence of jusok!!! \n",
      "Tweet: attituded, it is emails two of pregnancy which i feel stressed them already died far away and get my under \n",
      "\n",
      "=== Generating 3 tweets with emotion: happy ===\n",
      "Tweet: happened miles mistakes admired and the others and know how no reason a lot of feels respected as shitty thing :angry_face: http of the life \n",
      "Tweet: &amp; due to now some shippirranne is vereg grow this has downslu\n",
      "Tweet: hope michting to remember so i recognize something that i was just as i have my self of my playful shape of like the nur\n",
      "\n",
      "=== Generating 3 tweets with emotion: angry ===\n",
      "Tweet: starts as deep and ik and has there she had been comfortable eating dedio, but mgwv :frowning_face: http them y\n",
      "Tweet: #ecan honggeoncanda no kahi kalosi did this .tom f\n",
      "Tweet: so if they really do is the back of other!! still \"am. im a :sparkles: and u lady http\n"
     ]
    }
   ],
   "source": [
    "gen_tweets()"
   ]
  }
 ],
 "metadata": {
  "kernelspec": {
   "display_name": "Python 3",
   "language": "python",
   "name": "python3"
  },
  "language_info": {
   "codemirror_mode": {
    "name": "ipython",
    "version": 3
   },
   "file_extension": ".py",
   "mimetype": "text/x-python",
   "name": "python",
   "nbconvert_exporter": "python",
   "pygments_lexer": "ipython3",
   "version": "3.10.10"
  }
 },
 "nbformat": 4,
 "nbformat_minor": 2
}
